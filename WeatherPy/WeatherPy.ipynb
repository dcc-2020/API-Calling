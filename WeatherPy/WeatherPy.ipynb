{
 "cells": [
  {
   "cell_type": "markdown",
   "metadata": {},
   "source": [
    "# WeatherPy\n",
    "----\n",
    "\n",
    "#### Note\n",
    "* Instructions have been included for each segment. You do not have to follow them exactly, but they are included to help you think through the steps."
   ]
  },
  {
   "cell_type": "code",
   "execution_count": 67,
   "metadata": {
    "scrolled": true
   },
   "outputs": [],
   "source": [
    "# Dependencies and Setup\n",
    "import matplotlib.pyplot as plt\n",
    "import pandas as pd\n",
    "import numpy as np\n",
    "import requests\n",
    "import time\n",
    "from scipy.stats import linregress\n",
    "\n",
    "# Import API key\n",
    "from api_keys import weather_api_key\n",
    "\n",
    "# Incorporated citipy to determine city based on latitude and longitude\n",
    "from citipy import citipy\n",
    "\n",
    "# Output File (CSV)\n",
    "output_data_file = \"output_data/cities.csv\"\n",
    "\n",
    "# Range of latitudes and longitudes\n",
    "lat_range = (-90, 90)\n",
    "lng_range = (-180, 180)"
   ]
  },
  {
   "cell_type": "markdown",
   "metadata": {},
   "source": [
    "## Generate Cities List"
   ]
  },
  {
   "cell_type": "code",
   "execution_count": 5,
   "metadata": {},
   "outputs": [
    {
     "data": {
      "text/plain": [
       "594"
      ]
     },
     "execution_count": 5,
     "metadata": {},
     "output_type": "execute_result"
    }
   ],
   "source": [
    "# List for holding lat_lngs and cities\n",
    "lat_lngs = []\n",
    "cities = []\n",
    "\n",
    "# Create a set of random lat and lng combinations\n",
    "lats = np.random.uniform(lat_range[0], lat_range[1], size=1500)\n",
    "lngs = np.random.uniform(lng_range[0], lng_range[1], size=1500)\n",
    "lat_lngs = zip(lats, lngs)\n",
    "\n",
    "# Identify nearest city for each lat, lng combination\n",
    "for lat_lng in lat_lngs:\n",
    "    city = citipy.nearest_city(lat_lng[0], lat_lng[1]).city_name\n",
    "    \n",
    "    # If the city is unique, then add it to a our cities list\n",
    "    if city not in cities:\n",
    "        cities.append(city)\n",
    "\n",
    "# Print the city count to confirm sufficient count\n",
    "len(cities)"
   ]
  },
  {
   "cell_type": "code",
   "execution_count": 20,
   "metadata": {},
   "outputs": [
    {
     "data": {
      "text/plain": [
       "{'coord': {'lon': -122.6762, 'lat': 45.5234},\n",
       " 'weather': [{'id': 803,\n",
       "   'main': 'Clouds',\n",
       "   'description': 'broken clouds',\n",
       "   'icon': '04d'}],\n",
       " 'base': 'stations',\n",
       " 'main': {'temp': 54.16,\n",
       "  'feels_like': 52.79,\n",
       "  'temp_min': 48.61,\n",
       "  'temp_max': 58.23,\n",
       "  'pressure': 1016,\n",
       "  'humidity': 75},\n",
       " 'visibility': 10000,\n",
       " 'wind': {'speed': 4, 'deg': 178, 'gust': 13},\n",
       " 'clouds': {'all': 75},\n",
       " 'dt': 1651360400,\n",
       " 'sys': {'type': 2,\n",
       "  'id': 2020319,\n",
       "  'country': 'US',\n",
       "  'sunrise': 1651323598,\n",
       "  'sunset': 1651374937},\n",
       " 'timezone': -25200,\n",
       " 'id': 5746545,\n",
       " 'name': 'Portland',\n",
       " 'cod': 200}"
      ]
     },
     "execution_count": 20,
     "metadata": {},
     "output_type": "execute_result"
    }
   ],
   "source": [
    "test = requests.get('https://api.openweathermap.org/data/2.5/weather?units=Imperial&appid=e536d4b819bd5c3c3e4f17c1a13a757d&q=portland').json()\n"
   ]
  },
  {
   "cell_type": "code",
   "execution_count": 29,
   "metadata": {},
   "outputs": [
    {
     "data": {
      "text/plain": [
       "'04/30/22'"
      ]
     },
     "execution_count": 29,
     "metadata": {},
     "output_type": "execute_result"
    }
   ],
   "source": [
    "test['main']\n",
    "time.strftime('%x', time.gmtime(1651360400))"
   ]
  },
  {
   "cell_type": "markdown",
   "metadata": {},
   "source": [
    "### Perform API Calls\n",
    "* Perform a weather check on each city using a series of successive API calls.\n",
    "* Include a print log of each city as it'sbeing processed (with the city number and city name).\n"
   ]
  },
  {
   "cell_type": "code",
   "execution_count": 34,
   "metadata": {},
   "outputs": [
    {
     "name": "stdout",
     "output_type": "stream",
     "text": [
      "Beginning Data Retrieval     \n",
      "-----------------------------\n",
      "Processing Record 1 of Set 1 | portland\n",
      "Processing Record 2 of Set 1 | ushuaia\n",
      "Processing Record 3 of Set 1 | araruama\n",
      "Processing Record 4 of Set 1 | airai\n",
      "Processing Record 5 of Set 1 | dingli\n",
      "Processing Record 6 of Set 1 | cape town\n",
      "Processing Record 7 of Set 1 | narsaq\n",
      "Processing Record 8 of Set 1 | lata\n",
      "Processing Record 9 of Set 1 | punta arenas\n",
      "Processing Record 10 of Set 1 | taolanaro\n",
      "City not found. Skipping...\n",
      "Processing Record 11 of Set 1 | neuquen\n",
      "Processing Record 12 of Set 1 | pevek\n",
      "Processing Record 13 of Set 1 | ponta delgada\n",
      "Processing Record 14 of Set 1 | pathein\n",
      "Processing Record 15 of Set 1 | la uribe\n",
      "City not found. Skipping...\n",
      "Processing Record 16 of Set 1 | andenes\n",
      "Processing Record 17 of Set 1 | qaanaaq\n",
      "Processing Record 18 of Set 1 | port alfred\n",
      "Processing Record 19 of Set 1 | mogadishu\n",
      "Processing Record 20 of Set 1 | gold coast\n",
      "Processing Record 21 of Set 1 | janakpur\n",
      "Processing Record 22 of Set 1 | neka\n",
      "Processing Record 23 of Set 1 | barentsburg\n",
      "City not found. Skipping...\n",
      "Processing Record 24 of Set 1 | marsh harbour\n",
      "Processing Record 25 of Set 1 | albany\n",
      "Processing Record 26 of Set 1 | mys shmidta\n",
      "City not found. Skipping...\n",
      "Processing Record 27 of Set 1 | allanmyo\n",
      "City not found. Skipping...\n",
      "Processing Record 28 of Set 1 | alofi\n",
      "Processing Record 29 of Set 1 | barrow\n",
      "Processing Record 30 of Set 1 | mataura\n",
      "Processing Record 31 of Set 1 | porto seguro\n",
      "Processing Record 32 of Set 1 | sisimiut\n",
      "Processing Record 33 of Set 1 | ribeira grande\n",
      "Processing Record 34 of Set 1 | honningsvag\n",
      "Processing Record 35 of Set 1 | jacareacanga\n",
      "Processing Record 36 of Set 1 | sao joao da barra\n",
      "Processing Record 37 of Set 1 | lakatoro\n",
      "Processing Record 38 of Set 1 | mar del plata\n",
      "Processing Record 39 of Set 1 | hilo\n",
      "Processing Record 40 of Set 1 | chuy\n",
      "Processing Record 41 of Set 1 | bethel\n",
      "Processing Record 42 of Set 1 | avarua\n",
      "Processing Record 43 of Set 1 | hermanus\n",
      "Processing Record 44 of Set 1 | tasiilaq\n",
      "Processing Record 45 of Set 1 | yar-sale\n",
      "Processing Record 46 of Set 1 | hohhot\n",
      "Processing Record 47 of Set 1 | satkhira\n",
      "Processing Record 48 of Set 1 | new norfolk\n",
      "Processing Record 49 of Set 1 | castro\n",
      "Processing Record 50 of Set 1 | busselton\n",
      "Processing Record 0 of Set 2 | vila franca do campo\n",
      "Processing Record 1 of Set 2 | rocha\n",
      "Processing Record 2 of Set 2 | el faiyum\n",
      "City not found. Skipping...\n",
      "Processing Record 3 of Set 2 | mehamn\n",
      "Processing Record 4 of Set 2 | rikitea\n",
      "Processing Record 5 of Set 2 | berbera\n",
      "Processing Record 6 of Set 2 | saldanha\n",
      "Processing Record 7 of Set 2 | kapaa\n",
      "Processing Record 8 of Set 2 | kaka\n",
      "Processing Record 9 of Set 2 | arraial do cabo\n",
      "Processing Record 10 of Set 2 | souillac\n",
      "Processing Record 11 of Set 2 | arlit\n",
      "Processing Record 12 of Set 2 | hobart\n",
      "Processing Record 13 of Set 2 | dikson\n",
      "Processing Record 14 of Set 2 | alice springs\n",
      "Processing Record 15 of Set 2 | yellowknife\n",
      "Processing Record 16 of Set 2 | the valley\n",
      "Processing Record 17 of Set 2 | santa fe\n",
      "Processing Record 18 of Set 2 | butaritari\n",
      "Processing Record 19 of Set 2 | usinsk\n",
      "Processing Record 20 of Set 2 | tshane\n",
      "Processing Record 21 of Set 2 | vaini\n",
      "Processing Record 22 of Set 2 | attawapiskat\n",
      "City not found. Skipping...\n",
      "Processing Record 23 of Set 2 | hithadhoo\n",
      "Processing Record 24 of Set 2 | fermoy\n",
      "Processing Record 25 of Set 2 | sibolga\n",
      "Processing Record 26 of Set 2 | ancud\n",
      "Processing Record 27 of Set 2 | komsomolskiy\n",
      "Processing Record 28 of Set 2 | saint-philippe\n",
      "Processing Record 29 of Set 2 | tiksi\n",
      "Processing Record 30 of Set 2 | beyneu\n",
      "Processing Record 31 of Set 2 | namatanai\n",
      "Processing Record 32 of Set 2 | luderitz\n",
      "Processing Record 33 of Set 2 | slave lake\n",
      "Processing Record 34 of Set 2 | bambous virieux\n",
      "Processing Record 35 of Set 2 | lebu\n",
      "Processing Record 36 of Set 2 | cabo san lucas\n",
      "Processing Record 37 of Set 2 | leningradskiy\n",
      "Processing Record 38 of Set 2 | thompson\n",
      "Processing Record 39 of Set 2 | ocampo\n",
      "Processing Record 40 of Set 2 | nukus\n",
      "Processing Record 41 of Set 2 | toliary\n",
      "City not found. Skipping...\n",
      "Processing Record 42 of Set 2 | illoqqortoormiut\n",
      "City not found. Skipping...\n",
      "Processing Record 43 of Set 2 | sinnamary\n",
      "Processing Record 44 of Set 2 | georgetown\n",
      "Processing Record 45 of Set 2 | bluff\n",
      "Processing Record 46 of Set 2 | faanui\n",
      "Processing Record 47 of Set 2 | salym\n",
      "Processing Record 48 of Set 2 | banjar\n",
      "Processing Record 49 of Set 2 | jamestown\n",
      "Processing Record 0 of Set 3 | tatawin\n",
      "Processing Record 1 of Set 3 | port keats\n",
      "Processing Record 2 of Set 3 | port lincoln\n",
      "Processing Record 3 of Set 3 | jieshi\n",
      "Processing Record 4 of Set 3 | kruisfontein\n",
      "Processing Record 5 of Set 3 | tumannyy\n",
      "City not found. Skipping...\n",
      "Processing Record 6 of Set 3 | khatanga\n",
      "Processing Record 7 of Set 3 | hunza\n",
      "City not found. Skipping...\n",
      "Processing Record 8 of Set 3 | bukachacha\n",
      "Processing Record 9 of Set 3 | omboue\n",
      "Processing Record 10 of Set 3 | patrocinio\n",
      "Processing Record 11 of Set 3 | saleaula\n",
      "City not found. Skipping...\n",
      "Processing Record 12 of Set 3 | tessalit\n",
      "Processing Record 13 of Set 3 | torbay\n",
      "Processing Record 14 of Set 3 | havre-saint-pierre\n",
      "Processing Record 15 of Set 3 | hvammstangi\n",
      "City not found. Skipping...\n",
      "Processing Record 16 of Set 3 | norman wells\n",
      "Processing Record 17 of Set 3 | port elizabeth\n",
      "Processing Record 18 of Set 3 | guerrero negro\n",
      "Processing Record 19 of Set 3 | saskylakh\n",
      "Processing Record 20 of Set 3 | marzuq\n",
      "Processing Record 21 of Set 3 | campina verde\n",
      "Processing Record 22 of Set 3 | mitsamiouli\n",
      "Processing Record 23 of Set 3 | vaitupu\n",
      "City not found. Skipping...\n",
      "Processing Record 24 of Set 3 | kyren\n",
      "Processing Record 25 of Set 3 | belushya guba\n",
      "City not found. Skipping...\n",
      "Processing Record 26 of Set 3 | kodiak\n",
      "Processing Record 27 of Set 3 | cayenne\n",
      "Processing Record 28 of Set 3 | laksar\n",
      "Processing Record 29 of Set 3 | carnarvon\n",
      "Processing Record 30 of Set 3 | baykit\n",
      "Processing Record 31 of Set 3 | izumo\n",
      "Processing Record 32 of Set 3 | labuhan\n",
      "Processing Record 33 of Set 3 | moose factory\n",
      "Processing Record 34 of Set 3 | nanortalik\n",
      "Processing Record 35 of Set 3 | mahebourg\n",
      "Processing Record 36 of Set 3 | fort saint john\n",
      "City not found. Skipping...\n",
      "Processing Record 37 of Set 3 | sampit\n",
      "Processing Record 38 of Set 3 | lubao\n",
      "Processing Record 39 of Set 3 | lolua\n",
      "City not found. Skipping...\n",
      "Processing Record 40 of Set 3 | hofn\n",
      "Processing Record 41 of Set 3 | bredasdorp\n",
      "Processing Record 42 of Set 3 | suntar\n",
      "Processing Record 43 of Set 3 | birao\n",
      "Processing Record 44 of Set 3 | san quintin\n",
      "Processing Record 45 of Set 3 | klyuchi\n",
      "Processing Record 46 of Set 3 | mount isa\n",
      "Processing Record 47 of Set 3 | xinmin\n",
      "Processing Record 48 of Set 3 | lasa\n",
      "Processing Record 49 of Set 3 | maldonado\n",
      "Processing Record 0 of Set 4 | bosaso\n",
      "Processing Record 1 of Set 4 | tuktoyaktuk\n",
      "Processing Record 2 of Set 4 | husavik\n",
      "Processing Record 3 of Set 4 | igarka\n",
      "Processing Record 4 of Set 4 | benoy\n",
      "Processing Record 5 of Set 4 | cherskiy\n",
      "Processing Record 6 of Set 4 | puerto ayora\n",
      "Processing Record 7 of Set 4 | ust-kuyga\n",
      "Processing Record 8 of Set 4 | morondava\n",
      "Processing Record 9 of Set 4 | palmer\n",
      "Processing Record 10 of Set 4 | taoudenni\n",
      "Processing Record 11 of Set 4 | tautira\n",
      "Processing Record 12 of Set 4 | tigzirt\n",
      "Processing Record 13 of Set 4 | bandarbeyla\n",
      "Processing Record 14 of Set 4 | bilibino\n",
      "Processing Record 15 of Set 4 | uzhur\n",
      "Processing Record 16 of Set 4 | ostrovnoy\n",
      "Processing Record 17 of Set 4 | khudumelapye\n",
      "Processing Record 18 of Set 4 | zatoka\n",
      "Processing Record 19 of Set 4 | sistranda\n",
      "Processing Record 20 of Set 4 | nikolskoye\n",
      "Processing Record 21 of Set 4 | ponta do sol\n",
      "Processing Record 22 of Set 4 | samusu\n",
      "City not found. Skipping...\n",
      "Processing Record 23 of Set 4 | yefira\n",
      "City not found. Skipping...\n",
      "Processing Record 24 of Set 4 | clyde river\n",
      "Processing Record 25 of Set 4 | mount gambier\n",
      "Processing Record 26 of Set 4 | honiara\n",
      "Processing Record 27 of Set 4 | dingle\n",
      "Processing Record 28 of Set 4 | enns\n",
      "Processing Record 29 of Set 4 | port-gentil\n",
      "Processing Record 30 of Set 4 | tala\n",
      "Processing Record 31 of Set 4 | krasnoyarskiy\n",
      "Processing Record 32 of Set 4 | provideniya\n",
      "Processing Record 33 of Set 4 | gabu\n",
      "Processing Record 34 of Set 4 | acajutla\n",
      "Processing Record 35 of Set 4 | colares\n",
      "Processing Record 36 of Set 4 | marcona\n",
      "City not found. Skipping...\n",
      "Processing Record 37 of Set 4 | jerome\n",
      "Processing Record 38 of Set 4 | maine-soroa\n",
      "Processing Record 39 of Set 4 | huarmey\n",
      "Processing Record 40 of Set 4 | pemangkat\n",
      "Processing Record 41 of Set 4 | yulara\n",
      "Processing Record 42 of Set 4 | gorom-gorom\n",
      "Processing Record 43 of Set 4 | novozavidovskiy\n",
      "Processing Record 44 of Set 4 | kahului\n",
      "Processing Record 45 of Set 4 | mabaruma\n",
      "Processing Record 46 of Set 4 | quevedo\n",
      "Processing Record 47 of Set 4 | atuona\n",
      "Processing Record 48 of Set 4 | lompoc\n",
      "Processing Record 49 of Set 4 | aswan\n",
      "Processing Record 0 of Set 5 | cockburn town\n",
      "Processing Record 1 of Set 5 | margate\n",
      "Processing Record 2 of Set 5 | deception bay\n",
      "Processing Record 3 of Set 5 | upernavik\n",
      "Processing Record 4 of Set 5 | victoria\n",
      "Processing Record 5 of Set 5 | xai-xai\n",
      "Processing Record 6 of Set 5 | namibe\n",
      "Processing Record 7 of Set 5 | verkhniy baskunchak\n",
      "Processing Record 8 of Set 5 | hovd\n",
      "Processing Record 9 of Set 5 | lagoa\n",
      "Processing Record 10 of Set 5 | mecca\n",
      "Processing Record 11 of Set 5 | chore\n",
      "City not found. Skipping...\n",
      "Processing Record 12 of Set 5 | anadyr\n",
      "Processing Record 13 of Set 5 | kaitangata\n",
      "Processing Record 14 of Set 5 | kajaani\n",
      "Processing Record 15 of Set 5 | pisco\n",
      "Processing Record 16 of Set 5 | tabulbah\n",
      "City not found. Skipping...\n",
      "Processing Record 17 of Set 5 | tselinnoye\n",
      "Processing Record 18 of Set 5 | santa isabel\n",
      "Processing Record 19 of Set 5 | yenotayevka\n",
      "Processing Record 20 of Set 5 | amderma\n",
      "City not found. Skipping...\n",
      "Processing Record 21 of Set 5 | barletta\n",
      "Processing Record 22 of Set 5 | piacabucu\n",
      "Processing Record 23 of Set 5 | saint george\n",
      "Processing Record 24 of Set 5 | behshahr\n",
      "Processing Record 25 of Set 5 | hasaki\n",
      "Processing Record 26 of Set 5 | grand river south east\n",
      "City not found. Skipping...\n",
      "Processing Record 27 of Set 5 | rio grande\n",
      "Processing Record 28 of Set 5 | hokitika\n",
      "Processing Record 29 of Set 5 | bandundu\n",
      "Processing Record 30 of Set 5 | achisay\n",
      "City not found. Skipping...\n",
      "Processing Record 31 of Set 5 | valle de allende\n",
      "Processing Record 32 of Set 5 | port maria\n",
      "Processing Record 33 of Set 5 | nieves\n",
      "Processing Record 34 of Set 5 | viligili\n",
      "City not found. Skipping...\n",
      "Processing Record 35 of Set 5 | krivosheino\n",
      "Processing Record 36 of Set 5 | sept-iles\n",
      "Processing Record 37 of Set 5 | svetlyy\n",
      "Processing Record 38 of Set 5 | bethanien\n",
      "Processing Record 39 of Set 5 | meadow lake\n",
      "Processing Record 40 of Set 5 | pyapon\n",
      "Processing Record 41 of Set 5 | pontes e lacerda\n",
      "Processing Record 42 of Set 5 | fortuna\n",
      "Processing Record 43 of Set 5 | kochinda\n",
      "Processing Record 44 of Set 5 | mnogovershinnyy\n",
      "Processing Record 45 of Set 5 | da nang\n",
      "Processing Record 46 of Set 5 | madison\n",
      "Processing Record 47 of Set 5 | thinadhoo\n",
      "Processing Record 48 of Set 5 | mogzon\n",
      "Processing Record 49 of Set 5 | buala\n",
      "Processing Record 0 of Set 6 | santa eulalia del rio\n",
      "City not found. Skipping...\n",
      "Processing Record 1 of Set 6 | abu samrah\n",
      "Processing Record 2 of Set 6 | briancon\n",
      "Processing Record 3 of Set 6 | saint-jovite\n",
      "Processing Record 4 of Set 6 | bodden town\n",
      "Processing Record 5 of Set 6 | kidal\n",
      "Processing Record 6 of Set 6 | fukue\n",
      "Processing Record 7 of Set 6 | labytnangi\n",
      "Processing Record 8 of Set 6 | srednekolymsk\n",
      "Processing Record 9 of Set 6 | mayo\n",
      "Processing Record 10 of Set 6 | yaan\n",
      "Processing Record 11 of Set 6 | abaza\n",
      "Processing Record 12 of Set 6 | bassila\n",
      "Processing Record 13 of Set 6 | sarangani\n",
      "Processing Record 14 of Set 6 | kempsey\n",
      "Processing Record 15 of Set 6 | escanaba\n",
      "Processing Record 16 of Set 6 | randolph\n",
      "Processing Record 17 of Set 6 | hof\n",
      "Processing Record 18 of Set 6 | overland park\n",
      "Processing Record 19 of Set 6 | quatre cocos\n",
      "Processing Record 20 of Set 6 | necochea\n",
      "Processing Record 21 of Set 6 | mitu\n",
      "Processing Record 22 of Set 6 | vanimo\n",
      "Processing Record 23 of Set 6 | belyy yar\n",
      "Processing Record 24 of Set 6 | san cristobal\n",
      "Processing Record 25 of Set 6 | avera\n",
      "Processing Record 26 of Set 6 | bo phloi\n",
      "Processing Record 27 of Set 6 | port blair\n",
      "Processing Record 28 of Set 6 | taltal\n",
      "Processing Record 29 of Set 6 | klaksvik\n",
      "Processing Record 30 of Set 6 | la asuncion\n",
      "Processing Record 31 of Set 6 | innisfail\n",
      "Processing Record 32 of Set 6 | juegang\n",
      "Processing Record 33 of Set 6 | cochrane\n",
      "Processing Record 34 of Set 6 | tomigusuku\n",
      "Processing Record 35 of Set 6 | moba\n",
      "Processing Record 36 of Set 6 | nantucket\n",
      "Processing Record 37 of Set 6 | luanda\n",
      "Processing Record 38 of Set 6 | vilhena\n",
      "Processing Record 39 of Set 6 | galbshtadt\n",
      "Processing Record 40 of Set 6 | port macquarie\n",
      "Processing Record 41 of Set 6 | khash\n",
      "Processing Record 42 of Set 6 | paamiut\n",
      "Processing Record 43 of Set 6 | vitim\n",
      "Processing Record 44 of Set 6 | alto araguaia\n",
      "Processing Record 45 of Set 6 | hambantota\n",
      "Processing Record 46 of Set 6 | loiza\n",
      "Processing Record 47 of Set 6 | brumadinho\n",
      "Processing Record 48 of Set 6 | kostomuksha\n",
      "Processing Record 49 of Set 6 | kirakira\n",
      "Processing Record 0 of Set 7 | curuguaty\n",
      "Processing Record 1 of Set 7 | fare\n",
      "Processing Record 2 of Set 7 | trelew\n",
      "Processing Record 3 of Set 7 | coahuayana\n",
      "Processing Record 4 of Set 7 | ushtobe\n",
      "Processing Record 5 of Set 7 | saint-joseph\n",
      "Processing Record 6 of Set 7 | caravelas\n",
      "Processing Record 7 of Set 7 | pyinmana\n",
      "Processing Record 8 of Set 7 | waitati\n",
      "Processing Record 9 of Set 7 | khandyga\n",
      "Processing Record 10 of Set 7 | ahuimanu\n",
      "Processing Record 11 of Set 7 | samarai\n",
      "Processing Record 12 of Set 7 | bengkulu\n",
      "Processing Record 13 of Set 7 | ilulissat\n",
      "Processing Record 14 of Set 7 | kavieng\n",
      "Processing Record 15 of Set 7 | rawson\n",
      "Processing Record 16 of Set 7 | touros\n",
      "Processing Record 17 of Set 7 | betong\n",
      "Processing Record 18 of Set 7 | vardo\n",
      "Processing Record 19 of Set 7 | kresttsy\n",
      "Processing Record 20 of Set 7 | longyearbyen\n",
      "Processing Record 21 of Set 7 | mukhen\n",
      "Processing Record 22 of Set 7 | tabiauea\n",
      "City not found. Skipping...\n",
      "Processing Record 23 of Set 7 | keflavik\n",
      "Processing Record 24 of Set 7 | makat\n",
      "Processing Record 25 of Set 7 | mezen\n",
      "Processing Record 26 of Set 7 | phenix city\n",
      "Processing Record 27 of Set 7 | esso\n",
      "Processing Record 28 of Set 7 | umzimvubu\n",
      "City not found. Skipping...\n",
      "Processing Record 29 of Set 7 | rio gallegos\n",
      "Processing Record 30 of Set 7 | sitka\n",
      "Processing Record 31 of Set 7 | alpena\n",
      "Processing Record 32 of Set 7 | torun\n",
      "Processing Record 33 of Set 7 | richards bay\n",
      "Processing Record 34 of Set 7 | altay\n",
      "Processing Record 35 of Set 7 | tsihombe\n",
      "City not found. Skipping...\n",
      "Processing Record 36 of Set 7 | navirai\n",
      "Processing Record 37 of Set 7 | asau\n",
      "Processing Record 38 of Set 7 | lydenburg\n",
      "Processing Record 39 of Set 7 | chara\n",
      "Processing Record 40 of Set 7 | lake havasu city\n",
      "Processing Record 41 of Set 7 | cap malheureux\n",
      "Processing Record 42 of Set 7 | baraki barak\n",
      "Processing Record 43 of Set 7 | chokurdakh\n",
      "Processing Record 44 of Set 7 | tsienyane\n",
      "City not found. Skipping...\n",
      "Processing Record 45 of Set 7 | pangnirtung\n",
      "Processing Record 46 of Set 7 | katobu\n",
      "Processing Record 47 of Set 7 | penalva\n",
      "Processing Record 48 of Set 7 | krasnoselkup\n",
      "Processing Record 49 of Set 7 | burhaniye\n",
      "Processing Record 0 of Set 8 | kyabe\n",
      "Processing Record 1 of Set 8 | aljezur\n",
      "Processing Record 2 of Set 8 | mosty u jablunkova\n",
      "Processing Record 3 of Set 8 | kollumerland\n",
      "City not found. Skipping...\n",
      "Processing Record 4 of Set 8 | adre\n",
      "Processing Record 5 of Set 8 | shimoda\n",
      "Processing Record 6 of Set 8 | camacha\n",
      "Processing Record 7 of Set 8 | along\n",
      "Processing Record 8 of Set 8 | barra patuca\n",
      "Processing Record 9 of Set 8 | rorvik\n",
      "Processing Record 10 of Set 8 | san patricio\n",
      "Processing Record 11 of Set 8 | tokur\n",
      "Processing Record 12 of Set 8 | east london\n",
      "Processing Record 13 of Set 8 | formoso do araguaia\n",
      "City not found. Skipping...\n",
      "Processing Record 14 of Set 8 | shimanovsk\n",
      "Processing Record 15 of Set 8 | alugan\n",
      "Processing Record 16 of Set 8 | tual\n",
      "Processing Record 17 of Set 8 | santiago del estero\n",
      "Processing Record 18 of Set 8 | biloela\n",
      "Processing Record 19 of Set 8 | estevan\n",
      "Processing Record 20 of Set 8 | ahipara\n",
      "Processing Record 21 of Set 8 | antofagasta\n",
      "Processing Record 22 of Set 8 | maniitsoq\n",
      "Processing Record 23 of Set 8 | outlook\n",
      "Processing Record 24 of Set 8 | felidhoo\n",
      "City not found. Skipping...\n",
      "Processing Record 25 of Set 8 | faya\n",
      "Processing Record 26 of Set 8 | praia\n",
      "Processing Record 27 of Set 8 | heiligenhafen\n",
      "Processing Record 28 of Set 8 | lorengau\n",
      "Processing Record 29 of Set 8 | severo-kurilsk\n",
      "Processing Record 30 of Set 8 | ishim\n",
      "Processing Record 31 of Set 8 | sentyabrskiy\n",
      "City not found. Skipping...\n",
      "Processing Record 32 of Set 8 | oistins\n",
      "Processing Record 33 of Set 8 | evanston\n",
      "Processing Record 34 of Set 8 | te anau\n",
      "Processing Record 35 of Set 8 | cradock\n",
      "Processing Record 36 of Set 8 | monte carmelo\n",
      "Processing Record 37 of Set 8 | macomer\n",
      "Processing Record 38 of Set 8 | vila velha\n",
      "Processing Record 39 of Set 8 | russell\n",
      "Processing Record 40 of Set 8 | balezino\n",
      "Processing Record 41 of Set 8 | skjervoy\n",
      "Processing Record 42 of Set 8 | stoyba\n",
      "City not found. Skipping...\n",
      "Processing Record 43 of Set 8 | cidreira\n",
      "Processing Record 44 of Set 8 | novobirilyussy\n",
      "Processing Record 45 of Set 8 | kosonsoy\n",
      "Processing Record 46 of Set 8 | maceio\n",
      "Processing Record 47 of Set 8 | longlac\n",
      "City not found. Skipping...\n",
      "Processing Record 48 of Set 8 | rassvet\n",
      "Processing Record 49 of Set 8 | kenora\n",
      "Processing Record 0 of Set 9 | qandala\n",
      "Processing Record 1 of Set 9 | santa marta\n",
      "Processing Record 2 of Set 9 | goundam\n",
      "Processing Record 3 of Set 9 | prince rupert\n",
      "Processing Record 4 of Set 9 | kudahuvadhoo\n",
      "Processing Record 5 of Set 9 | jinxiang\n",
      "Processing Record 6 of Set 9 | tabuk\n",
      "Processing Record 7 of Set 9 | kiruna\n",
      "Processing Record 8 of Set 9 | ust-maya\n",
      "Processing Record 9 of Set 9 | turukhansk\n",
      "Processing Record 10 of Set 9 | iqaluit\n",
      "Processing Record 11 of Set 9 | havelock\n",
      "Processing Record 12 of Set 9 | ayan\n",
      "Processing Record 13 of Set 9 | itarema\n",
      "Processing Record 14 of Set 9 | haimen\n",
      "Processing Record 15 of Set 9 | bhuj\n",
      "Processing Record 16 of Set 9 | broome\n",
      "Processing Record 17 of Set 9 | morant bay\n",
      "Processing Record 18 of Set 9 | yuli\n",
      "Processing Record 19 of Set 9 | sayhat\n",
      "Processing Record 20 of Set 9 | odoyev\n",
      "Processing Record 21 of Set 9 | esperance\n",
      "Processing Record 22 of Set 9 | mugur-aksy\n",
      "Processing Record 23 of Set 9 | dolbeau\n",
      "City not found. Skipping...\n",
      "Processing Record 24 of Set 9 | egvekinot\n",
      "Processing Record 25 of Set 9 | orange cove\n",
      "Processing Record 26 of Set 9 | rayachoti\n",
      "Processing Record 27 of Set 9 | nome\n",
      "Processing Record 28 of Set 9 | brae\n",
      "Processing Record 29 of Set 9 | west bay\n",
      "Processing Record 30 of Set 9 | semirom\n",
      "Processing Record 31 of Set 9 | buraydah\n",
      "Processing Record 32 of Set 9 | nalut\n",
      "Processing Record 33 of Set 9 | san juan\n",
      "Processing Record 34 of Set 9 | novovasylivka\n",
      "Processing Record 35 of Set 9 | tingi\n",
      "Processing Record 36 of Set 9 | rawannawi\n",
      "City not found. Skipping...\n",
      "Processing Record 37 of Set 9 | korla\n",
      "Processing Record 38 of Set 9 | verkhnevilyuysk\n",
      "Processing Record 39 of Set 9 | mehriz\n",
      "Processing Record 40 of Set 9 | gulshat\n",
      "City not found. Skipping...\n",
      "Processing Record 41 of Set 9 | chicama\n",
      "Processing Record 42 of Set 9 | chandigarh\n",
      "Processing Record 43 of Set 9 | tobermory\n",
      "Processing Record 44 of Set 9 | coolum beach\n",
      "Processing Record 45 of Set 9 | tocopilla\n",
      "Processing Record 46 of Set 9 | mendeleyevsk\n",
      "Processing Record 47 of Set 9 | hamilton\n",
      "Processing Record 48 of Set 9 | bucerias\n",
      "Processing Record 49 of Set 9 | ordubad\n",
      "Processing Record 0 of Set 10 | chumikan\n",
      "Processing Record 1 of Set 10 | ostersund\n",
      "Processing Record 2 of Set 10 | kondinskoye\n",
      "Processing Record 3 of Set 10 | xuchang\n",
      "Processing Record 4 of Set 10 | rabaul\n",
      "Processing Record 5 of Set 10 | marathon\n",
      "Processing Record 6 of Set 10 | yumen\n",
      "Processing Record 7 of Set 10 | half moon bay\n",
      "Processing Record 8 of Set 10 | flin flon\n",
      "Processing Record 9 of Set 10 | makakilo city\n",
      "Processing Record 10 of Set 10 | numan\n",
      "Processing Record 11 of Set 10 | tazmalt\n",
      "Processing Record 12 of Set 10 | berlevag\n",
      "Processing Record 13 of Set 10 | gimli\n",
      "Processing Record 14 of Set 10 | fairbanks\n",
      "Processing Record 15 of Set 10 | turtas\n",
      "Processing Record 16 of Set 10 | matay\n",
      "Processing Record 17 of Set 10 | butte\n",
      "Processing Record 18 of Set 10 | bahia honda\n",
      "Processing Record 19 of Set 10 | rajapalaiyam\n",
      "Processing Record 20 of Set 10 | urdzhar\n",
      "City not found. Skipping...\n",
      "Processing Record 21 of Set 10 | marawi\n",
      "Processing Record 22 of Set 10 | tilichiki\n",
      "Processing Record 23 of Set 10 | wick\n",
      "Processing Record 24 of Set 10 | kondopoga\n",
      "Processing Record 25 of Set 10 | motril\n",
      "Processing Record 26 of Set 10 | birjand\n",
      "Processing Record 27 of Set 10 | petatlan\n",
      "Processing Record 28 of Set 10 | lora del rio\n",
      "Processing Record 29 of Set 10 | itacoatiara\n",
      "Processing Record 30 of Set 10 | kozhva\n",
      "Processing Record 31 of Set 10 | puerto baquerizo moreno\n",
      "Processing Record 32 of Set 10 | iralaya\n",
      "Processing Record 33 of Set 10 | belogorsk\n",
      "Processing Record 34 of Set 10 | totness\n",
      "Processing Record 35 of Set 10 | makeni\n",
      "Processing Record 36 of Set 10 | gambissara\n",
      "Processing Record 37 of Set 10 | iquique\n",
      "Processing Record 38 of Set 10 | kalmunai\n",
      "Processing Record 39 of Set 10 | benguela\n",
      "Processing Record 40 of Set 10 | mardin\n",
      "Processing Record 41 of Set 10 | tres lagoas\n",
      "Processing Record 42 of Set 10 | san pedro de uraba\n",
      "Processing Record 43 of Set 10 | touho\n",
      "Processing Record 44 of Set 10 | fukuma\n",
      "Processing Record 45 of Set 10 | alghero\n",
      "Processing Record 46 of Set 10 | harper\n",
      "Processing Record 47 of Set 10 | gat\n",
      "Processing Record 48 of Set 10 | punta alta\n",
      "Processing Record 49 of Set 10 | katsuura\n",
      "Processing Record 0 of Set 11 | tura\n",
      "Processing Record 1 of Set 11 | chino valley\n",
      "Processing Record 2 of Set 11 | waingapu\n",
      "Processing Record 3 of Set 11 | makubetsu\n",
      "Processing Record 4 of Set 11 | pacific grove\n",
      "Processing Record 5 of Set 11 | oranjemund\n",
      "Processing Record 6 of Set 11 | halalo\n",
      "City not found. Skipping...\n",
      "Processing Record 7 of Set 11 | oriximina\n",
      "Processing Record 8 of Set 11 | reconquista\n",
      "Processing Record 9 of Set 11 | la rioja\n",
      "Processing Record 10 of Set 11 | nizhneyansk\n",
      "City not found. Skipping...\n",
      "Processing Record 11 of Set 11 | olinda\n",
      "Processing Record 12 of Set 11 | emilio carranza\n",
      "Processing Record 13 of Set 11 | pirovskoye\n",
      "Processing Record 14 of Set 11 | lavrentiya\n",
      "Processing Record 15 of Set 11 | izazi\n",
      "Processing Record 16 of Set 11 | la macarena\n",
      "Processing Record 17 of Set 11 | tahoua\n",
      "Processing Record 18 of Set 11 | witrivier\n",
      "City not found. Skipping...\n",
      "Processing Record 19 of Set 11 | porto novo\n",
      "Processing Record 20 of Set 11 | shu\n",
      "Processing Record 21 of Set 11 | codrington\n",
      "Processing Record 22 of Set 11 | ketchikan\n",
      "Processing Record 23 of Set 11 | saint-pierre\n",
      "Processing Record 24 of Set 11 | newport\n",
      "Processing Record 25 of Set 11 | wa\n",
      "City not found. Skipping...\n",
      "Processing Record 26 of Set 11 | garissa\n",
      "Processing Record 27 of Set 11 | fort nelson\n",
      "Processing Record 28 of Set 11 | salihorsk\n",
      "Processing Record 29 of Set 11 | goderich\n",
      "Processing Record 30 of Set 11 | port augusta\n",
      "Processing Record 31 of Set 11 | haines junction\n",
      "Processing Record 32 of Set 11 | kloulklubed\n",
      "Processing Record 33 of Set 11 | mariel\n",
      "Processing Record 34 of Set 11 | am timan\n",
      "Processing Record 35 of Set 11 | gallup\n",
      "Processing Record 36 of Set 11 | hirara\n",
      "Processing Record 37 of Set 11 | port hedland\n",
      "Processing Record 38 of Set 11 | kota kinabalu\n",
      "Processing Record 39 of Set 11 | flinders\n",
      "Processing Record 40 of Set 11 | kabompo\n",
      "Processing Record 41 of Set 11 | kavaratti\n",
      "Processing Record 42 of Set 11 | ust-nera\n",
      "Processing Record 43 of Set 11 | ugoofaaru\n",
      "Processing Record 44 of Set 11 | grindavik\n",
      "Processing Record 45 of Set 11 | kyakhta\n",
      "Processing Record 46 of Set 11 | karoi\n",
      "Processing Record 47 of Set 11 | vinh\n",
      "Processing Record 48 of Set 11 | presidente medici\n",
      "Processing Record 49 of Set 11 | pombas\n",
      "Processing Record 0 of Set 12 | keetmanshoop\n",
      "Processing Record 1 of Set 12 | tawau\n",
      "Processing Record 2 of Set 12 | bonfim\n",
      "Processing Record 3 of Set 12 | freeport\n",
      "Processing Record 4 of Set 12 | ondangwa\n",
      "Processing Record 5 of Set 12 | haibowan\n",
      "City not found. Skipping...\n",
      "Processing Record 6 of Set 12 | alta gracia\n",
      "Processing Record 7 of Set 12 | brigantine\n",
      "Processing Record 8 of Set 12 | xunchang\n",
      "Processing Record 9 of Set 12 | belokurikha\n",
      "Processing Record 10 of Set 12 | solsvik\n",
      "City not found. Skipping...\n",
      "Processing Record 11 of Set 12 | maneadero\n",
      "Processing Record 12 of Set 12 | burica\n",
      "City not found. Skipping...\n",
      "Processing Record 13 of Set 12 | henties bay\n",
      "Processing Record 14 of Set 12 | cadillac\n",
      "Processing Record 15 of Set 12 | leua\n",
      "Processing Record 16 of Set 12 | mwense\n",
      "Processing Record 17 of Set 12 | quetzaltepec\n",
      "City not found. Skipping...\n",
      "Processing Record 18 of Set 12 | estelle\n",
      "Processing Record 19 of Set 12 | geraldton\n",
      "Processing Record 20 of Set 12 | corner brook\n",
      "Processing Record 21 of Set 12 | grand gaube\n",
      "Processing Record 22 of Set 12 | burgeo\n",
      "Processing Record 23 of Set 12 | hobyo\n",
      "Processing Record 24 of Set 12 | koygorodok\n",
      "Processing Record 25 of Set 12 | yuzhno-yeniseyskiy\n",
      "City not found. Skipping...\n",
      "Processing Record 26 of Set 12 | taraz\n",
      "Processing Record 27 of Set 12 | chabua\n",
      "Processing Record 28 of Set 12 | rosario\n",
      "Processing Record 29 of Set 12 | chibuto\n",
      "Processing Record 30 of Set 12 | saint-francois\n",
      "Processing Record 31 of Set 12 | talnakh\n",
      "Processing Record 32 of Set 12 | chernyshevskiy\n",
      "Processing Record 33 of Set 12 | leshukonskoye\n",
      "Processing Record 34 of Set 12 | lebork\n",
      "Processing Record 35 of Set 12 | lensk\n",
      "Processing Record 36 of Set 12 | kuytun\n",
      "Processing Record 37 of Set 12 | aras\n",
      "Processing Record 38 of Set 12 | moerai\n",
      "Processing Record 39 of Set 12 | naze\n",
      "Processing Record 40 of Set 12 | bolungarvik\n",
      "City not found. Skipping...\n",
      "Processing Record 41 of Set 12 | nadym\n",
      "Processing Record 42 of Set 12 | nioki\n",
      "Processing Record 43 of Set 12 | brownsville\n",
      "-----------------------------\n",
      "Data Retrieval Complete\n",
      "-----------------------------\n"
     ]
    }
   ],
   "source": [
    "# build url for api calls\n",
    "base_url = 'https://api.openweathermap.org/data/2.5/weather?units=Imperial'\n",
    "cities_response = []\n",
    "\n",
    "print('''Beginning Data Retrieval     \n",
    "-----------------------------''')\n",
    "count = 0\n",
    "set_count = 1\n",
    "\n",
    "# create for loop to grab api call result and print the cities grabed \n",
    "for i, h in enumerate(cities):\n",
    "    count += 1\n",
    "    if (i % 50 == 0 and i >= 50):\n",
    "        set_count += 1\n",
    "        count = 0\n",
    "    param = {\n",
    "        'q' : h,\n",
    "        'appid' : weather_api_key\n",
    "    }\n",
    "    print(f'Processing Record {count} of Set {set_count} | {h}')\n",
    "    try:\n",
    "        weather_response = requests.get(base_url, params=param).json()\n",
    "        cities_response.append({\n",
    "                            'City': weather_response['name'],\n",
    "                            'Lat' : weather_response['coord']['lat'],\n",
    "                            'Lng' : weather_response['coord']['lon'],\n",
    "                            'Max Temp' : weather_response['main']['temp_max'],\n",
    "                            'Humidity' : weather_response['main']['humidity'],\n",
    "                            'Cloudiness' : weather_response['clouds']['all'],\n",
    "                            'Wind Speed' : weather_response['wind']['speed'],\n",
    "                            'Country' : weather_response['sys']['country'],\n",
    "                            'Date' : weather_response['dt']})        \n",
    "    except:\n",
    "        print('City not found. Skipping...')\n",
    "\n",
    "print('''-----------------------------\n",
    "Data Retrieval Complete\n",
    "-----------------------------''')\n",
    "        "
   ]
  },
  {
   "cell_type": "markdown",
   "metadata": {},
   "source": [
    "### Convert Raw Data to DataFrame\n",
    "* Export the city data into a .csv.\n",
    "* Display the DataFrame"
   ]
  },
  {
   "cell_type": "code",
   "execution_count": 39,
   "metadata": {},
   "outputs": [
    {
     "data": {
      "text/html": [
       "<div>\n",
       "<style scoped>\n",
       "    .dataframe tbody tr th:only-of-type {\n",
       "        vertical-align: middle;\n",
       "    }\n",
       "\n",
       "    .dataframe tbody tr th {\n",
       "        vertical-align: top;\n",
       "    }\n",
       "\n",
       "    .dataframe thead th {\n",
       "        text-align: right;\n",
       "    }\n",
       "</style>\n",
       "<table border=\"1\" class=\"dataframe\">\n",
       "  <thead>\n",
       "    <tr style=\"text-align: right;\">\n",
       "      <th></th>\n",
       "      <th>City</th>\n",
       "      <th>Lat</th>\n",
       "      <th>Lng</th>\n",
       "      <th>Max Temp</th>\n",
       "      <th>Humidity</th>\n",
       "      <th>Cloudiness</th>\n",
       "      <th>Wind Speed</th>\n",
       "      <th>Country</th>\n",
       "      <th>Date</th>\n",
       "    </tr>\n",
       "  </thead>\n",
       "  <tbody>\n",
       "    <tr>\n",
       "      <th>0</th>\n",
       "      <td>Portland</td>\n",
       "      <td>45.5234</td>\n",
       "      <td>-122.6762</td>\n",
       "      <td>57.61</td>\n",
       "      <td>82</td>\n",
       "      <td>96</td>\n",
       "      <td>4.00</td>\n",
       "      <td>US</td>\n",
       "      <td>1651362828</td>\n",
       "    </tr>\n",
       "    <tr>\n",
       "      <th>1</th>\n",
       "      <td>Ushuaia</td>\n",
       "      <td>-54.8000</td>\n",
       "      <td>-68.3000</td>\n",
       "      <td>38.86</td>\n",
       "      <td>70</td>\n",
       "      <td>20</td>\n",
       "      <td>4.61</td>\n",
       "      <td>AR</td>\n",
       "      <td>1651363063</td>\n",
       "    </tr>\n",
       "    <tr>\n",
       "      <th>2</th>\n",
       "      <td>Araruama</td>\n",
       "      <td>-22.8728</td>\n",
       "      <td>-42.3431</td>\n",
       "      <td>71.80</td>\n",
       "      <td>92</td>\n",
       "      <td>99</td>\n",
       "      <td>5.73</td>\n",
       "      <td>BR</td>\n",
       "      <td>1651363064</td>\n",
       "    </tr>\n",
       "    <tr>\n",
       "      <th>3</th>\n",
       "      <td>Airai</td>\n",
       "      <td>-8.9266</td>\n",
       "      <td>125.4092</td>\n",
       "      <td>69.26</td>\n",
       "      <td>62</td>\n",
       "      <td>69</td>\n",
       "      <td>4.23</td>\n",
       "      <td>TL</td>\n",
       "      <td>1651363065</td>\n",
       "    </tr>\n",
       "    <tr>\n",
       "      <th>4</th>\n",
       "      <td>Dingli</td>\n",
       "      <td>35.8614</td>\n",
       "      <td>14.3822</td>\n",
       "      <td>59.81</td>\n",
       "      <td>67</td>\n",
       "      <td>0</td>\n",
       "      <td>9.22</td>\n",
       "      <td>MT</td>\n",
       "      <td>1651363065</td>\n",
       "    </tr>\n",
       "  </tbody>\n",
       "</table>\n",
       "</div>"
      ],
      "text/plain": [
       "       City      Lat       Lng  Max Temp  Humidity  Cloudiness  Wind Speed  \\\n",
       "0  Portland  45.5234 -122.6762     57.61        82          96        4.00   \n",
       "1   Ushuaia -54.8000  -68.3000     38.86        70          20        4.61   \n",
       "2  Araruama -22.8728  -42.3431     71.80        92          99        5.73   \n",
       "3     Airai  -8.9266  125.4092     69.26        62          69        4.23   \n",
       "4    Dingli  35.8614   14.3822     59.81        67           0        9.22   \n",
       "\n",
       "  Country        Date  \n",
       "0      US  1651362828  \n",
       "1      AR  1651363063  \n",
       "2      BR  1651363064  \n",
       "3      TL  1651363065  \n",
       "4      MT  1651363065  "
      ]
     },
     "execution_count": 39,
     "metadata": {},
     "output_type": "execute_result"
    }
   ],
   "source": [
    "df = pd.DataFrame(cities_response)\n",
    "df.head()"
   ]
  },
  {
   "cell_type": "code",
   "execution_count": 36,
   "metadata": {},
   "outputs": [
    {
     "data": {
      "text/html": [
       "<div>\n",
       "<style scoped>\n",
       "    .dataframe tbody tr th:only-of-type {\n",
       "        vertical-align: middle;\n",
       "    }\n",
       "\n",
       "    .dataframe tbody tr th {\n",
       "        vertical-align: top;\n",
       "    }\n",
       "\n",
       "    .dataframe thead th {\n",
       "        text-align: right;\n",
       "    }\n",
       "</style>\n",
       "<table border=\"1\" class=\"dataframe\">\n",
       "  <thead>\n",
       "    <tr style=\"text-align: right;\">\n",
       "      <th></th>\n",
       "      <th>Lat</th>\n",
       "      <th>Lng</th>\n",
       "      <th>Max Temp</th>\n",
       "      <th>Humidity</th>\n",
       "      <th>Cloudiness</th>\n",
       "      <th>Wind Speed</th>\n",
       "      <th>Date</th>\n",
       "    </tr>\n",
       "  </thead>\n",
       "  <tbody>\n",
       "    <tr>\n",
       "      <th>count</th>\n",
       "      <td>543.000000</td>\n",
       "      <td>543.000000</td>\n",
       "      <td>543.000000</td>\n",
       "      <td>543.000000</td>\n",
       "      <td>543.000000</td>\n",
       "      <td>543.000000</td>\n",
       "      <td>5.430000e+02</td>\n",
       "    </tr>\n",
       "    <tr>\n",
       "      <th>mean</th>\n",
       "      <td>20.913097</td>\n",
       "      <td>15.547998</td>\n",
       "      <td>60.333959</td>\n",
       "      <td>71.313076</td>\n",
       "      <td>60.215470</td>\n",
       "      <td>7.481547</td>\n",
       "      <td>1.651363e+09</td>\n",
       "    </tr>\n",
       "    <tr>\n",
       "      <th>std</th>\n",
       "      <td>33.582868</td>\n",
       "      <td>89.101176</td>\n",
       "      <td>19.490537</td>\n",
       "      <td>19.909425</td>\n",
       "      <td>37.085764</td>\n",
       "      <td>4.683746</td>\n",
       "      <td>1.226181e+02</td>\n",
       "    </tr>\n",
       "    <tr>\n",
       "      <th>min</th>\n",
       "      <td>-54.800000</td>\n",
       "      <td>-179.166700</td>\n",
       "      <td>5.520000</td>\n",
       "      <td>3.000000</td>\n",
       "      <td>0.000000</td>\n",
       "      <td>0.000000</td>\n",
       "      <td>1.651363e+09</td>\n",
       "    </tr>\n",
       "    <tr>\n",
       "      <th>25%</th>\n",
       "      <td>-8.076950</td>\n",
       "      <td>-61.987500</td>\n",
       "      <td>46.580000</td>\n",
       "      <td>63.000000</td>\n",
       "      <td>25.000000</td>\n",
       "      <td>4.000000</td>\n",
       "      <td>1.651363e+09</td>\n",
       "    </tr>\n",
       "    <tr>\n",
       "      <th>50%</th>\n",
       "      <td>25.901800</td>\n",
       "      <td>18.754200</td>\n",
       "      <td>62.190000</td>\n",
       "      <td>75.000000</td>\n",
       "      <td>71.000000</td>\n",
       "      <td>6.510000</td>\n",
       "      <td>1.651363e+09</td>\n",
       "    </tr>\n",
       "    <tr>\n",
       "      <th>75%</th>\n",
       "      <td>50.216750</td>\n",
       "      <td>90.156450</td>\n",
       "      <td>77.380000</td>\n",
       "      <td>85.000000</td>\n",
       "      <td>98.000000</td>\n",
       "      <td>9.965000</td>\n",
       "      <td>1.651363e+09</td>\n",
       "    </tr>\n",
       "    <tr>\n",
       "      <th>max</th>\n",
       "      <td>78.218600</td>\n",
       "      <td>178.416700</td>\n",
       "      <td>98.060000</td>\n",
       "      <td>100.000000</td>\n",
       "      <td>100.000000</td>\n",
       "      <td>24.160000</td>\n",
       "      <td>1.651363e+09</td>\n",
       "    </tr>\n",
       "  </tbody>\n",
       "</table>\n",
       "</div>"
      ],
      "text/plain": [
       "              Lat         Lng    Max Temp    Humidity  Cloudiness  Wind Speed  \\\n",
       "count  543.000000  543.000000  543.000000  543.000000  543.000000  543.000000   \n",
       "mean    20.913097   15.547998   60.333959   71.313076   60.215470    7.481547   \n",
       "std     33.582868   89.101176   19.490537   19.909425   37.085764    4.683746   \n",
       "min    -54.800000 -179.166700    5.520000    3.000000    0.000000    0.000000   \n",
       "25%     -8.076950  -61.987500   46.580000   63.000000   25.000000    4.000000   \n",
       "50%     25.901800   18.754200   62.190000   75.000000   71.000000    6.510000   \n",
       "75%     50.216750   90.156450   77.380000   85.000000   98.000000    9.965000   \n",
       "max     78.218600  178.416700   98.060000  100.000000  100.000000   24.160000   \n",
       "\n",
       "               Date  \n",
       "count  5.430000e+02  \n",
       "mean   1.651363e+09  \n",
       "std    1.226181e+02  \n",
       "min    1.651363e+09  \n",
       "25%    1.651363e+09  \n",
       "50%    1.651363e+09  \n",
       "75%    1.651363e+09  \n",
       "max    1.651363e+09  "
      ]
     },
     "execution_count": 36,
     "metadata": {},
     "output_type": "execute_result"
    }
   ],
   "source": [
    "df.describe()"
   ]
  },
  {
   "cell_type": "markdown",
   "metadata": {},
   "source": [
    "## Inspect the data and remove the cities where the humidity > 100%.\n",
    "----\n",
    "Skip this step if there are no cities that have humidity > 100%. "
   ]
  },
  {
   "cell_type": "code",
   "execution_count": 37,
   "metadata": {},
   "outputs": [
    {
     "data": {
      "text/html": [
       "<div>\n",
       "<style scoped>\n",
       "    .dataframe tbody tr th:only-of-type {\n",
       "        vertical-align: middle;\n",
       "    }\n",
       "\n",
       "    .dataframe tbody tr th {\n",
       "        vertical-align: top;\n",
       "    }\n",
       "\n",
       "    .dataframe thead th {\n",
       "        text-align: right;\n",
       "    }\n",
       "</style>\n",
       "<table border=\"1\" class=\"dataframe\">\n",
       "  <thead>\n",
       "    <tr style=\"text-align: right;\">\n",
       "      <th></th>\n",
       "      <th>City</th>\n",
       "      <th>Lat</th>\n",
       "      <th>Lng</th>\n",
       "      <th>Max Temp</th>\n",
       "      <th>Humidity</th>\n",
       "      <th>Cloudiness</th>\n",
       "      <th>Wind Speed</th>\n",
       "      <th>Country</th>\n",
       "      <th>Date</th>\n",
       "    </tr>\n",
       "  </thead>\n",
       "  <tbody>\n",
       "    <tr>\n",
       "      <th>0</th>\n",
       "      <td>Portland</td>\n",
       "      <td>45.5234</td>\n",
       "      <td>-122.6762</td>\n",
       "      <td>57.61</td>\n",
       "      <td>82</td>\n",
       "      <td>96</td>\n",
       "      <td>4.00</td>\n",
       "      <td>US</td>\n",
       "      <td>1651362828</td>\n",
       "    </tr>\n",
       "    <tr>\n",
       "      <th>1</th>\n",
       "      <td>Ushuaia</td>\n",
       "      <td>-54.8000</td>\n",
       "      <td>-68.3000</td>\n",
       "      <td>38.86</td>\n",
       "      <td>70</td>\n",
       "      <td>20</td>\n",
       "      <td>4.61</td>\n",
       "      <td>AR</td>\n",
       "      <td>1651363063</td>\n",
       "    </tr>\n",
       "    <tr>\n",
       "      <th>2</th>\n",
       "      <td>Araruama</td>\n",
       "      <td>-22.8728</td>\n",
       "      <td>-42.3431</td>\n",
       "      <td>71.80</td>\n",
       "      <td>92</td>\n",
       "      <td>99</td>\n",
       "      <td>5.73</td>\n",
       "      <td>BR</td>\n",
       "      <td>1651363064</td>\n",
       "    </tr>\n",
       "    <tr>\n",
       "      <th>3</th>\n",
       "      <td>Airai</td>\n",
       "      <td>-8.9266</td>\n",
       "      <td>125.4092</td>\n",
       "      <td>69.26</td>\n",
       "      <td>62</td>\n",
       "      <td>69</td>\n",
       "      <td>4.23</td>\n",
       "      <td>TL</td>\n",
       "      <td>1651363065</td>\n",
       "    </tr>\n",
       "    <tr>\n",
       "      <th>4</th>\n",
       "      <td>Dingli</td>\n",
       "      <td>35.8614</td>\n",
       "      <td>14.3822</td>\n",
       "      <td>59.81</td>\n",
       "      <td>67</td>\n",
       "      <td>0</td>\n",
       "      <td>9.22</td>\n",
       "      <td>MT</td>\n",
       "      <td>1651363065</td>\n",
       "    </tr>\n",
       "    <tr>\n",
       "      <th>...</th>\n",
       "      <td>...</td>\n",
       "      <td>...</td>\n",
       "      <td>...</td>\n",
       "      <td>...</td>\n",
       "      <td>...</td>\n",
       "      <td>...</td>\n",
       "      <td>...</td>\n",
       "      <td>...</td>\n",
       "      <td>...</td>\n",
       "    </tr>\n",
       "    <tr>\n",
       "      <th>538</th>\n",
       "      <td>Moerai</td>\n",
       "      <td>-22.4333</td>\n",
       "      <td>-151.3333</td>\n",
       "      <td>78.30</td>\n",
       "      <td>67</td>\n",
       "      <td>47</td>\n",
       "      <td>8.19</td>\n",
       "      <td>PF</td>\n",
       "      <td>1651363402</td>\n",
       "    </tr>\n",
       "    <tr>\n",
       "      <th>539</th>\n",
       "      <td>Naze</td>\n",
       "      <td>28.3667</td>\n",
       "      <td>129.4833</td>\n",
       "      <td>63.30</td>\n",
       "      <td>73</td>\n",
       "      <td>100</td>\n",
       "      <td>14.90</td>\n",
       "      <td>JP</td>\n",
       "      <td>1651363402</td>\n",
       "    </tr>\n",
       "    <tr>\n",
       "      <th>540</th>\n",
       "      <td>Nadym</td>\n",
       "      <td>65.5333</td>\n",
       "      <td>72.5167</td>\n",
       "      <td>23.74</td>\n",
       "      <td>97</td>\n",
       "      <td>100</td>\n",
       "      <td>7.74</td>\n",
       "      <td>RU</td>\n",
       "      <td>1651363403</td>\n",
       "    </tr>\n",
       "    <tr>\n",
       "      <th>541</th>\n",
       "      <td>Nioki</td>\n",
       "      <td>-2.7167</td>\n",
       "      <td>17.6833</td>\n",
       "      <td>71.29</td>\n",
       "      <td>90</td>\n",
       "      <td>34</td>\n",
       "      <td>1.14</td>\n",
       "      <td>CD</td>\n",
       "      <td>1651363404</td>\n",
       "    </tr>\n",
       "    <tr>\n",
       "      <th>542</th>\n",
       "      <td>Brownsville</td>\n",
       "      <td>25.9018</td>\n",
       "      <td>-97.4975</td>\n",
       "      <td>83.08</td>\n",
       "      <td>78</td>\n",
       "      <td>75</td>\n",
       "      <td>12.66</td>\n",
       "      <td>US</td>\n",
       "      <td>1651363206</td>\n",
       "    </tr>\n",
       "  </tbody>\n",
       "</table>\n",
       "<p>543 rows × 9 columns</p>\n",
       "</div>"
      ],
      "text/plain": [
       "            City      Lat       Lng  Max Temp  Humidity  Cloudiness  \\\n",
       "0       Portland  45.5234 -122.6762     57.61        82          96   \n",
       "1        Ushuaia -54.8000  -68.3000     38.86        70          20   \n",
       "2       Araruama -22.8728  -42.3431     71.80        92          99   \n",
       "3          Airai  -8.9266  125.4092     69.26        62          69   \n",
       "4         Dingli  35.8614   14.3822     59.81        67           0   \n",
       "..           ...      ...       ...       ...       ...         ...   \n",
       "538       Moerai -22.4333 -151.3333     78.30        67          47   \n",
       "539         Naze  28.3667  129.4833     63.30        73         100   \n",
       "540        Nadym  65.5333   72.5167     23.74        97         100   \n",
       "541        Nioki  -2.7167   17.6833     71.29        90          34   \n",
       "542  Brownsville  25.9018  -97.4975     83.08        78          75   \n",
       "\n",
       "     Wind Speed Country        Date  \n",
       "0          4.00      US  1651362828  \n",
       "1          4.61      AR  1651363063  \n",
       "2          5.73      BR  1651363064  \n",
       "3          4.23      TL  1651363065  \n",
       "4          9.22      MT  1651363065  \n",
       "..          ...     ...         ...  \n",
       "538        8.19      PF  1651363402  \n",
       "539       14.90      JP  1651363402  \n",
       "540        7.74      RU  1651363403  \n",
       "541        1.14      CD  1651363404  \n",
       "542       12.66      US  1651363206  \n",
       "\n",
       "[543 rows x 9 columns]"
      ]
     },
     "execution_count": 37,
     "metadata": {},
     "output_type": "execute_result"
    }
   ],
   "source": [
    "df[df['Humidity'] <= 100]"
   ]
  },
  {
   "cell_type": "code",
   "execution_count": 46,
   "metadata": {},
   "outputs": [
    {
     "data": {
      "text/plain": [
       "Int64Index([], dtype='int64')"
      ]
     },
     "execution_count": 46,
     "metadata": {},
     "output_type": "execute_result"
    }
   ],
   "source": [
    "#  Get the indices of cities that have humidity over 100%.\n",
    "humid_todrop = df[df['Humidity'] > 100].index\n",
    "humid_todrop"
   ]
  },
  {
   "cell_type": "code",
   "execution_count": 48,
   "metadata": {},
   "outputs": [
    {
     "data": {
      "text/html": [
       "<div>\n",
       "<style scoped>\n",
       "    .dataframe tbody tr th:only-of-type {\n",
       "        vertical-align: middle;\n",
       "    }\n",
       "\n",
       "    .dataframe tbody tr th {\n",
       "        vertical-align: top;\n",
       "    }\n",
       "\n",
       "    .dataframe thead th {\n",
       "        text-align: right;\n",
       "    }\n",
       "</style>\n",
       "<table border=\"1\" class=\"dataframe\">\n",
       "  <thead>\n",
       "    <tr style=\"text-align: right;\">\n",
       "      <th></th>\n",
       "      <th>City</th>\n",
       "      <th>Lat</th>\n",
       "      <th>Lng</th>\n",
       "      <th>Max Temp</th>\n",
       "      <th>Humidity</th>\n",
       "      <th>Cloudiness</th>\n",
       "      <th>Wind Speed</th>\n",
       "      <th>Country</th>\n",
       "      <th>Date</th>\n",
       "    </tr>\n",
       "  </thead>\n",
       "  <tbody>\n",
       "    <tr>\n",
       "      <th>0</th>\n",
       "      <td>Portland</td>\n",
       "      <td>45.5234</td>\n",
       "      <td>-122.6762</td>\n",
       "      <td>57.61</td>\n",
       "      <td>82</td>\n",
       "      <td>96</td>\n",
       "      <td>4.00</td>\n",
       "      <td>US</td>\n",
       "      <td>1651362828</td>\n",
       "    </tr>\n",
       "    <tr>\n",
       "      <th>1</th>\n",
       "      <td>Ushuaia</td>\n",
       "      <td>-54.8000</td>\n",
       "      <td>-68.3000</td>\n",
       "      <td>38.86</td>\n",
       "      <td>70</td>\n",
       "      <td>20</td>\n",
       "      <td>4.61</td>\n",
       "      <td>AR</td>\n",
       "      <td>1651363063</td>\n",
       "    </tr>\n",
       "    <tr>\n",
       "      <th>2</th>\n",
       "      <td>Araruama</td>\n",
       "      <td>-22.8728</td>\n",
       "      <td>-42.3431</td>\n",
       "      <td>71.80</td>\n",
       "      <td>92</td>\n",
       "      <td>99</td>\n",
       "      <td>5.73</td>\n",
       "      <td>BR</td>\n",
       "      <td>1651363064</td>\n",
       "    </tr>\n",
       "    <tr>\n",
       "      <th>3</th>\n",
       "      <td>Airai</td>\n",
       "      <td>-8.9266</td>\n",
       "      <td>125.4092</td>\n",
       "      <td>69.26</td>\n",
       "      <td>62</td>\n",
       "      <td>69</td>\n",
       "      <td>4.23</td>\n",
       "      <td>TL</td>\n",
       "      <td>1651363065</td>\n",
       "    </tr>\n",
       "    <tr>\n",
       "      <th>4</th>\n",
       "      <td>Dingli</td>\n",
       "      <td>35.8614</td>\n",
       "      <td>14.3822</td>\n",
       "      <td>59.81</td>\n",
       "      <td>67</td>\n",
       "      <td>0</td>\n",
       "      <td>9.22</td>\n",
       "      <td>MT</td>\n",
       "      <td>1651363065</td>\n",
       "    </tr>\n",
       "    <tr>\n",
       "      <th>...</th>\n",
       "      <td>...</td>\n",
       "      <td>...</td>\n",
       "      <td>...</td>\n",
       "      <td>...</td>\n",
       "      <td>...</td>\n",
       "      <td>...</td>\n",
       "      <td>...</td>\n",
       "      <td>...</td>\n",
       "      <td>...</td>\n",
       "    </tr>\n",
       "    <tr>\n",
       "      <th>538</th>\n",
       "      <td>Moerai</td>\n",
       "      <td>-22.4333</td>\n",
       "      <td>-151.3333</td>\n",
       "      <td>78.30</td>\n",
       "      <td>67</td>\n",
       "      <td>47</td>\n",
       "      <td>8.19</td>\n",
       "      <td>PF</td>\n",
       "      <td>1651363402</td>\n",
       "    </tr>\n",
       "    <tr>\n",
       "      <th>539</th>\n",
       "      <td>Naze</td>\n",
       "      <td>28.3667</td>\n",
       "      <td>129.4833</td>\n",
       "      <td>63.30</td>\n",
       "      <td>73</td>\n",
       "      <td>100</td>\n",
       "      <td>14.90</td>\n",
       "      <td>JP</td>\n",
       "      <td>1651363402</td>\n",
       "    </tr>\n",
       "    <tr>\n",
       "      <th>540</th>\n",
       "      <td>Nadym</td>\n",
       "      <td>65.5333</td>\n",
       "      <td>72.5167</td>\n",
       "      <td>23.74</td>\n",
       "      <td>97</td>\n",
       "      <td>100</td>\n",
       "      <td>7.74</td>\n",
       "      <td>RU</td>\n",
       "      <td>1651363403</td>\n",
       "    </tr>\n",
       "    <tr>\n",
       "      <th>541</th>\n",
       "      <td>Nioki</td>\n",
       "      <td>-2.7167</td>\n",
       "      <td>17.6833</td>\n",
       "      <td>71.29</td>\n",
       "      <td>90</td>\n",
       "      <td>34</td>\n",
       "      <td>1.14</td>\n",
       "      <td>CD</td>\n",
       "      <td>1651363404</td>\n",
       "    </tr>\n",
       "    <tr>\n",
       "      <th>542</th>\n",
       "      <td>Brownsville</td>\n",
       "      <td>25.9018</td>\n",
       "      <td>-97.4975</td>\n",
       "      <td>83.08</td>\n",
       "      <td>78</td>\n",
       "      <td>75</td>\n",
       "      <td>12.66</td>\n",
       "      <td>US</td>\n",
       "      <td>1651363206</td>\n",
       "    </tr>\n",
       "  </tbody>\n",
       "</table>\n",
       "<p>543 rows × 9 columns</p>\n",
       "</div>"
      ],
      "text/plain": [
       "            City      Lat       Lng  Max Temp  Humidity  Cloudiness  \\\n",
       "0       Portland  45.5234 -122.6762     57.61        82          96   \n",
       "1        Ushuaia -54.8000  -68.3000     38.86        70          20   \n",
       "2       Araruama -22.8728  -42.3431     71.80        92          99   \n",
       "3          Airai  -8.9266  125.4092     69.26        62          69   \n",
       "4         Dingli  35.8614   14.3822     59.81        67           0   \n",
       "..           ...      ...       ...       ...       ...         ...   \n",
       "538       Moerai -22.4333 -151.3333     78.30        67          47   \n",
       "539         Naze  28.3667  129.4833     63.30        73         100   \n",
       "540        Nadym  65.5333   72.5167     23.74        97         100   \n",
       "541        Nioki  -2.7167   17.6833     71.29        90          34   \n",
       "542  Brownsville  25.9018  -97.4975     83.08        78          75   \n",
       "\n",
       "     Wind Speed Country        Date  \n",
       "0          4.00      US  1651362828  \n",
       "1          4.61      AR  1651363063  \n",
       "2          5.73      BR  1651363064  \n",
       "3          4.23      TL  1651363065  \n",
       "4          9.22      MT  1651363065  \n",
       "..          ...     ...         ...  \n",
       "538        8.19      PF  1651363402  \n",
       "539       14.90      JP  1651363402  \n",
       "540        7.74      RU  1651363403  \n",
       "541        1.14      CD  1651363404  \n",
       "542       12.66      US  1651363206  \n",
       "\n",
       "[543 rows x 9 columns]"
      ]
     },
     "execution_count": 48,
     "metadata": {},
     "output_type": "execute_result"
    }
   ],
   "source": [
    "# Make a new DataFrame equal to the city data to drop all humidity outliers by index.\n",
    "# Passing \"inplace=False\" will make a copy of the city_data DataFrame, which we call \"clean_city_data\".\n",
    "clean_city_data = df.drop(humid_todrop, inplace=False)\n",
    "clean_city_data"
   ]
  },
  {
   "cell_type": "code",
   "execution_count": 103,
   "metadata": {},
   "outputs": [],
   "source": [
    "# output the data frame to a csv file\n",
    "clean_city_data.to_csv(output_data_file)"
   ]
  },
  {
   "cell_type": "markdown",
   "metadata": {},
   "source": [
    "## Plotting the Data\n",
    "* Use proper labeling of the plots using plot titles (including date of analysis) and axes labels.\n",
    "* Save the plotted figures as .pngs."
   ]
  },
  {
   "cell_type": "markdown",
   "metadata": {},
   "source": [
    "## Latitude vs. Temperature Plot"
   ]
  },
  {
   "cell_type": "code",
   "execution_count": 63,
   "metadata": {},
   "outputs": [
    {
     "data": {
      "image/png": "[encoded data removed]",
      "text/plain": [
       "<Figure size 432x288 with 1 Axes>"
      ]
     },
     "metadata": {
      "needs_background": "light"
     },
     "output_type": "display_data"
    }
   ],
   "source": [
    "# plotting scatter graph between latitude and max temperature\n",
    "plt.scatter(clean_city_data['Lat'], clean_city_data['Max Temp'], edgecolors='black')\n",
    "plt.title(f'City Latitude vs. Max Temperature ({time.strftime(\"%x\")})')\n",
    "plt.xlabel('Latitude')\n",
    "plt.ylabel('Max Temperature (F)')\n",
    "plt.grid(True)\n",
    "plt.savefig('output_data/Fig1')\n",
    "plt.show()"
   ]
  },
  {
   "cell_type": "markdown",
   "metadata": {},
   "source": [
    "The closer a city is to the equator, the higher the max temperature a city will experience. As long as the city is away from the equator, the city will have lower max temperature. The further away from the equator, the lower the max temperature will be."
   ]
  },
  {
   "cell_type": "markdown",
   "metadata": {},
   "source": [
    "## Latitude vs. Humidity Plot"
   ]
  },
  {
   "cell_type": "code",
   "execution_count": 64,
   "metadata": {},
   "outputs": [
    {
     "data": {
      "image/png": "[encoded data removed]",
      "text/plain": [
       "<Figure size 432x288 with 1 Axes>"
      ]
     },
     "metadata": {
      "needs_background": "light"
     },
     "output_type": "display_data"
    }
   ],
   "source": [
    "# plotting scatter graph between latitude and humidity\n",
    "plt.scatter(clean_city_data['Lat'], clean_city_data['Humidity'], edgecolors='black')\n",
    "plt.title(f'City Latitude vs. Humidity ({time.strftime(\"%x\")})')\n",
    "plt.xlabel('Latitude')\n",
    "plt.ylabel('Humidity (%)')\n",
    "plt.grid(True)\n",
    "plt.savefig('output_data/Fig2')\n",
    "plt.show()"
   ]
  },
  {
   "cell_type": "markdown",
   "metadata": {},
   "source": [
    "There is not much relationship between humidity and latitude. Most of the humidity of different cities falls between 60 to 100 percent. "
   ]
  },
  {
   "cell_type": "markdown",
   "metadata": {},
   "source": [
    "## Latitude vs. Cloudiness Plot"
   ]
  },
  {
   "cell_type": "code",
   "execution_count": 65,
   "metadata": {},
   "outputs": [
    {
     "data": {
      "image/png": "[encoded data removed]",
      "text/plain": [
       "<Figure size 432x288 with 1 Axes>"
      ]
     },
     "metadata": {
      "needs_background": "light"
     },
     "output_type": "display_data"
    }
   ],
   "source": [
    "# plotting scatter graph between latitude and cloudiness\n",
    "plt.scatter(clean_city_data['Lat'], clean_city_data['Cloudiness'], edgecolors='black')\n",
    "plt.title(f'City Latitude vs. Cloudiness ({time.strftime(\"%x\")})')\n",
    "plt.xlabel('Latitude')\n",
    "plt.ylabel('Cloudiness (%)')\n",
    "plt.grid(True)\n",
    "plt.savefig('output_data/Fig3')\n",
    "plt.show()"
   ]
  },
  {
   "cell_type": "markdown",
   "metadata": {},
   "source": [
    "There doesn't seem to be a relationship between cloudiness and latitude. "
   ]
  },
  {
   "cell_type": "markdown",
   "metadata": {},
   "source": [
    "## Latitude vs. Wind Speed Plot"
   ]
  },
  {
   "cell_type": "code",
   "execution_count": 66,
   "metadata": {},
   "outputs": [
    {
     "data": {
      "image/png": "[encoded data removed]",
      "text/plain": [
       "<Figure size 432x288 with 1 Axes>"
      ]
     },
     "metadata": {
      "needs_background": "light"
     },
     "output_type": "display_data"
    }
   ],
   "source": [
    "# plotting scatter graph between latitude and wind speed\n",
    "plt.scatter(clean_city_data['Lat'], clean_city_data['Wind Speed'], edgecolors='black')\n",
    "plt.title(f'City Latitude vs. Wind Speed ({time.strftime(\"%x\")})')\n",
    "plt.xlabel('Latitude')\n",
    "plt.ylabel('Wind Speed (mph)')\n",
    "plt.grid(True)\n",
    "plt.savefig('output_data/Fig4')\n",
    "plt.show()"
   ]
  },
  {
   "cell_type": "markdown",
   "metadata": {},
   "source": [
    "There is not much correlation between city latitude and wind speed. "
   ]
  },
  {
   "cell_type": "markdown",
   "metadata": {},
   "source": [
    "## Linear Regression"
   ]
  },
  {
   "cell_type": "code",
   "execution_count": 72,
   "metadata": {},
   "outputs": [],
   "source": [
    "# define a function for future graph plotting\n",
    "def regress_plot(x, y, y_label, xy):\n",
    "    slope, inter, r, p, stderr =linregress(x, y)\n",
    "    regress_value = x * slope + inter\n",
    "    regress_equ = f'y = {round(slope, 2)}x + {round(inter, 2)}'\n",
    "    print(f'The r-value is: {r**2}')\n",
    "    plt.scatter(x, y)\n",
    "    plt.plot(x, regress_value, color='red')\n",
    "    plt.annotate(regress_equ, xy, color='red')\n",
    "    plt.xlabel('Latitude')\n",
    "    plt.ylabel(y_label)\n",
    "    plt.show()"
   ]
  },
  {
   "cell_type": "markdown",
   "metadata": {},
   "source": [
    "####  Northern Hemisphere - Max Temp vs. Latitude Linear Regression"
   ]
  },
  {
   "cell_type": "code",
   "execution_count": 111,
   "metadata": {},
   "outputs": [],
   "source": [
    "# create two data frame that separates northern and southern hemisphere\n",
    "northern_df = clean_city_data[clean_city_data['Lat'] >= 0]\n",
    "southern_df = clean_city_data[clean_city_data['Lat'] < 0]"
   ]
  },
  {
   "cell_type": "code",
   "execution_count": 79,
   "metadata": {},
   "outputs": [
    {
     "name": "stdout",
     "output_type": "stream",
     "text": [
      "The r-value is: 0.8250574519322563\n"
     ]
    },
    {
     "data": {
      "image/png": "[encoded data removed]",
      "text/plain": [
       "<Figure size 432x288 with 1 Axes>"
      ]
     },
     "metadata": {
      "needs_background": "light"
     },
     "output_type": "display_data"
    }
   ],
   "source": [
    "regress_plot(northern_df['Lat'], northern_df['Max Temp'], 'Max Temp', (5,10))"
   ]
  },
  {
   "cell_type": "markdown",
   "metadata": {},
   "source": [
    "####  Southern Hemisphere - Max Temp vs. Latitude Linear Regression"
   ]
  },
  {
   "cell_type": "code",
   "execution_count": 92,
   "metadata": {},
   "outputs": [
    {
     "name": "stdout",
     "output_type": "stream",
     "text": [
      "The r-value is: 0.6141211164662286\n"
     ]
    },
    {
     "data": {
      "image/png": "[encoded data removed]",
      "text/plain": [
       "<Figure size 432x288 with 1 Axes>"
      ]
     },
     "metadata": {
      "needs_background": "light"
     },
     "output_type": "display_data"
    }
   ],
   "source": [
    "regress_plot(southern_df['Lat'], southern_df['Max Temp'], 'Max Temp', (-50,80))"
   ]
  },
  {
   "cell_type": "markdown",
   "metadata": {},
   "source": [
    "When comparing between latitude and max temperature, the northern hemisphere has a negative association and the southern hemisphere has a positive association. For northern hemisphere, the higher the latitude gets, the lower the max temperature will be. The r-value for northern hemisphere is 0.8 which means it has a strong relationship. On the other hand which is the southern hemisphere, the higher the latitude gets, the higher the max temperature will be. It has a r-value of 0.6 which means it has moderate relationship."
   ]
  },
  {
   "cell_type": "markdown",
   "metadata": {},
   "source": [
    "####  Northern Hemisphere - Humidity (%) vs. Latitude Linear Regression"
   ]
  },
  {
   "cell_type": "code",
   "execution_count": 102,
   "metadata": {},
   "outputs": [
    {
     "name": "stdout",
     "output_type": "stream",
     "text": [
      "The r-value is: 0.033580575981249555\n"
     ]
    },
    {
     "data": {
      "image/png": "[encoded data removed]",
      "text/plain": [
       "<Figure size 432x288 with 1 Axes>"
      ]
     },
     "metadata": {
      "needs_background": "light"
     },
     "output_type": "display_data"
    }
   ],
   "source": [
    "regress_plot(northern_df['Lat'], northern_df['Humidity'], 'Humidity', (55,15))"
   ]
  },
  {
   "cell_type": "markdown",
   "metadata": {},
   "source": [
    "####  Southern Hemisphere - Humidity (%) vs. Latitude Linear Regression"
   ]
  },
  {
   "cell_type": "code",
   "execution_count": 100,
   "metadata": {},
   "outputs": [
    {
     "name": "stdout",
     "output_type": "stream",
     "text": [
      "The r-value is: 0.04669689449287789\n"
     ]
    },
    {
     "data": {
      "image/png": "[encoded data removed]",
      "text/plain": [
       "<Figure size 432x288 with 1 Axes>"
      ]
     },
     "metadata": {
      "needs_background": "light"
     },
     "output_type": "display_data"
    }
   ],
   "source": [
    "regress_plot(southern_df['Lat'], southern_df['Humidity'], 'Humidity', (-18,25))"
   ]
  },
  {
   "cell_type": "markdown",
   "metadata": {},
   "source": [
    "When comparing the humidity and latitude, the northern and southern hemisphere both shows a positive liner relationship. However, the r-value for both hemisphere is so low that it is consider very weak to no relationship."
   ]
  },
  {
   "cell_type": "markdown",
   "metadata": {},
   "source": [
    "####  Northern Hemisphere - Cloudiness (%) vs. Latitude Linear Regression"
   ]
  },
  {
   "cell_type": "code",
   "execution_count": 105,
   "metadata": {},
   "outputs": [
    {
     "name": "stdout",
     "output_type": "stream",
     "text": [
      "The r-value is: 0.004881249437882924\n"
     ]
    },
    {
     "data": {
      "image/png": "[encoded data removed]",
      "text/plain": [
       "<Figure size 432x288 with 1 Axes>"
      ]
     },
     "metadata": {
      "needs_background": "light"
     },
     "output_type": "display_data"
    }
   ],
   "source": [
    "regress_plot(northern_df['Lat'], northern_df['Cloudiness'], 'Cloudiness', (5,15))"
   ]
  },
  {
   "cell_type": "markdown",
   "metadata": {},
   "source": [
    "####  Southern Hemisphere - Cloudiness (%) vs. Latitude Linear Regression"
   ]
  },
  {
   "cell_type": "code",
   "execution_count": 108,
   "metadata": {},
   "outputs": [
    {
     "name": "stdout",
     "output_type": "stream",
     "text": [
      "The r-value is: 0.05423475623845483\n"
     ]
    },
    {
     "data": {
      "image/png": "[encoded data removed]",
      "text/plain": [
       "<Figure size 432x288 with 1 Axes>"
      ]
     },
     "metadata": {
      "needs_background": "light"
     },
     "output_type": "display_data"
    }
   ],
   "source": [
    "regress_plot(southern_df['Lat'], southern_df['Cloudiness'], 'Cloudiness', (-55,50))"
   ]
  },
  {
   "cell_type": "markdown",
   "metadata": {},
   "source": [
    "When comparing cloudiness and latitude, it has a positive linear relationship. The r-value indicates there is very weak to no relationship."
   ]
  },
  {
   "cell_type": "markdown",
   "metadata": {},
   "source": [
    "####  Northern Hemisphere - Wind Speed (mph) vs. Latitude Linear Regression"
   ]
  },
  {
   "cell_type": "code",
   "execution_count": 115,
   "metadata": {},
   "outputs": [
    {
     "name": "stdout",
     "output_type": "stream",
     "text": [
      "The r-value is: 0.0011643411372411158\n"
     ]
    },
    {
     "data": {
      "image/png": "[encoded data removed]",
      "text/plain": [
       "<Figure size 432x288 with 1 Axes>"
      ]
     },
     "metadata": {
      "needs_background": "light"
     },
     "output_type": "display_data"
    }
   ],
   "source": [
    "regress_plot(northern_df['Lat'], northern_df['Wind Speed'], 'Wind Speed', (50,20))"
   ]
  },
  {
   "cell_type": "markdown",
   "metadata": {},
   "source": [
    "####  Southern Hemisphere - Wind Speed (mph) vs. Latitude Linear Regression"
   ]
  },
  {
   "cell_type": "code",
   "execution_count": 114,
   "metadata": {},
   "outputs": [
    {
     "name": "stdout",
     "output_type": "stream",
     "text": [
      "The r-value is: 0.01618479776644589\n"
     ]
    },
    {
     "data": {
      "image/png": "[encoded data removed]",
      "text/plain": [
       "<Figure size 432x288 with 1 Axes>"
      ]
     },
     "metadata": {
      "needs_background": "light"
     },
     "output_type": "display_data"
    }
   ],
   "source": [
    "regress_plot(southern_df['Lat'], southern_df['Wind Speed'], 'Wind Speed', (-50,15))"
   ]
  },
  {
   "cell_type": "markdown",
   "metadata": {},
   "source": [
    "When comparing the wind speed and latitude, the northern hemisphere has a positive linear relationship while the southern hemisphere has a negative linear relationship. However, the r-value for both case is so low where it can be consider a very weak to no relationship."
   ]
  }
 ],
 "metadata": {
  "anaconda-cloud": {},
  "interpreter": {
   "hash": "eaee1cdb47ad29f220f30c120e03416375ce493e6246058b88e04a2c66a886a3"
  },
  "kernel_info": {
   "name": "python3"
  },
  "kernelspec": {
   "display_name": "mypydev",
   "language": "python",
   "name": "python3"
  },
  "language_info": {
   "codemirror_mode": {
    "name": "ipython",
    "version": 3
   },
   "file_extension": ".py",
   "mimetype": "text/x-python",
   "name": "python",
   "nbconvert_exporter": "python",
   "pygments_lexer": "ipython3",
   "version": "3.9.7"
  },
  "latex_envs": {
   "LaTeX_envs_menu_present": true,
   "autoclose": false,
   "autocomplete": true,
   "bibliofile": "biblio.bib",
   "cite_by": "apalike",
   "current_citInitial": 1,
   "eqLabelWithNumbers": true,
   "eqNumInitial": 1,
   "hotkeys": {
    "equation": "Ctrl-E",
    "itemize": "Ctrl-I"
   },
   "labels_anchors": false,
   "latex_user_defs": false,
   "report_style_numbering": false,
   "user_envs_cfg": false
  },
  "nteract": {
   "version": "0.12.3"
  }
 },
 "nbformat": 4,
 "nbformat_minor": 2
}
